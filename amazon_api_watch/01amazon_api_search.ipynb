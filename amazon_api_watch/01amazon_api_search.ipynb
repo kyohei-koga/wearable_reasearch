{
 "cells": [
  {
   "cell_type": "markdown",
   "metadata": {},
   "source": [
    "# 説明\n",
    "- pythonモジュールのamazon-product-APIを用いて、asin(アイテムID)、発売日、製造元、価格、saleserankを取得\n",
    "- salserankは所属するカテゴリにおける順位\n",
    "- asinは別のプログラムで、レビューに関する情報を取得する。\n",
    "- APIで取得できる情報の一覧は下記のURL。\n",
    "\n",
    "http://docs.aws.amazon.com/AWSECommerceService/latest/DG/CHAP_response_elements.html#ASIN"
   ]
  },
  {
   "cell_type": "markdown",
   "metadata": {},
   "source": [
    "# amazon-product-api\n",
    "- amazonAPI専用のモジュール\n",
    "- amazonAPIは扱いが難しいため、作成された模様\n",
    "- 元々APIで取得できるすべての情報を扱うことができないが、重要な情報はカバーしている"
   ]
  },
  {
   "cell_type": "markdown",
   "metadata": {},
   "source": [
    "# 実施メモ\n",
    "- 取得できる情報は検索結果の最初10ページのみで、それ以降のページの情報は取得できない。今回の場合は、価格範囲を決めて、繰り返し情報を取得\n",
    "- 一時間でできるリクエスト回数は3600回となっているが、このペースでやるとエラーが頻発する。\n",
    "- 回線が常に混雑しているのか、リクエスト回数を抑えても、結構な頻度でエラーが発生する。"
   ]
  },
  {
   "cell_type": "code",
   "execution_count": 8,
   "metadata": {
    "collapsed": false
   },
   "outputs": [],
   "source": [
    "from amazon.api import AmazonAPI\n",
    "from bs4 import BeautifulSoup\n",
    "import requests\n",
    "import time\n",
    "import numpy as np\n",
    "import csv\n",
    "#coding utf-8\n",
    "f = open(\"/home/kyohei/amazon_rootkey/rootkey.csv\",\"r\")\n",
    "rootkey = list(csv.reader(f))\n",
    "access,secret = rootkey\n",
    "AMAZON_ACCESS_KEY = access[0].replace(\"AWSAccessKeyId=\",\"\")\n",
    "AMAZON_SECRET_KEY = secret[0].replace(\"AWSSecretKey=\",\"\")\n",
    "AMAZON_ASSOC_TAG = \"kyoheikoga04-22\"\n",
    "amazon = AmazonAPI(AMAZON_ACCESS_KEY,AMAZON_SECRET_KEY,AMAZON_ASSOC_TAG,region=\"JP\")"
   ]
  },
  {
   "cell_type": "code",
   "execution_count": 9,
   "metadata": {
    "collapsed": false
   },
   "outputs": [
    {
     "ename": "KeyboardInterrupt",
     "evalue": "",
     "output_type": "error",
     "traceback": [
      "\u001b[1;31m---------------------------------------------------------------------------\u001b[0m",
      "\u001b[1;31mKeyboardInterrupt\u001b[0m                         Traceback (most recent call last)",
      "\u001b[1;32m<ipython-input-9-13d12d3f3477>\u001b[0m in \u001b[0;36m<module>\u001b[1;34m()\u001b[0m\n\u001b[0;32m      6\u001b[0m                          \u001b[0mMinimumPrice\u001b[0m\u001b[1;33m=\u001b[0m\u001b[0mprice\u001b[0m\u001b[1;33m,\u001b[0m\u001b[1;33m\u001b[0m\u001b[0m\n\u001b[0;32m      7\u001b[0m                          MaximumPrice=(price + 999))\n\u001b[1;32m----> 8\u001b[1;33m     \u001b[0mtime\u001b[0m\u001b[1;33m.\u001b[0m\u001b[0msleep\u001b[0m\u001b[1;33m(\u001b[0m\u001b[1;36m5.0\u001b[0m\u001b[1;33m)\u001b[0m\u001b[1;33m\u001b[0m\u001b[0m\n\u001b[0m\u001b[0;32m      9\u001b[0m     \u001b[0mproducts_list\u001b[0m\u001b[1;33m.\u001b[0m\u001b[0mappend\u001b[0m\u001b[1;33m(\u001b[0m\u001b[0mproducts\u001b[0m\u001b[1;33m)\u001b[0m\u001b[1;33m\u001b[0m\u001b[0m\n",
      "\u001b[1;31mKeyboardInterrupt\u001b[0m: "
     ]
    }
   ],
   "source": [
    "prices = np.linspace(0,140000,141)\n",
    "products_list = []\n",
    "for price in prices:\n",
    "    products = amazon.search(BrowseNode=2725002051,\n",
    "                         SearchIndex='Electronics',\n",
    "                         MinimumPrice=price,\n",
    "                         MaximumPrice=(price + 999))\n",
    "    time.sleep(5.0)\n",
    "    products_list.append(products)"
   ]
  },
  {
   "cell_type": "code",
   "execution_count": 3,
   "metadata": {
    "collapsed": false
   },
   "outputs": [],
   "source": [
    "rate_values = []\n",
    "error_confirmation = []\n",
    "for j,product in enumerate(products_list):\n",
    "    try:\n",
    "        for i,row in enumerate(product):\n",
    "            response = requests.get(row.reviews[1])\n",
    "            title = row.title\n",
    "            asin = row.asin\n",
    "            manufacturer = row.manufacturer\n",
    "            date = row.release_date\n",
    "            price = row.price_and_currency[0]\n",
    "            rank = row.sales_rank\n",
    "            rate_values.append([asin,\n",
    "                               date,\n",
    "                               manufacturer,\n",
    "                               price,\n",
    "                               rank])\n",
    "    except Exception:\n",
    "        error_confirmation.append([\"error\",i])"
   ]
  },
  {
   "cell_type": "code",
   "execution_count": 4,
   "metadata": {
    "collapsed": false
   },
   "outputs": [
    {
     "data": {
      "text/plain": [
       "(651, 5)"
      ]
     },
     "execution_count": 4,
     "metadata": {},
     "output_type": "execute_result"
    }
   ],
   "source": [
    "np.array(rate_values).shape"
   ]
  },
  {
   "cell_type": "code",
   "execution_count": 19,
   "metadata": {
    "collapsed": false
   },
   "outputs": [],
   "source": [
    "import pandas as pd\n",
    "column = [\"asin\",\"date\",\"manufacturer\",\"price\",\"rank\"]\n",
    "data = pd.DataFrame(rate_values,columns=column)\n",
    "data_renew = data.set_index(\"asin\",drop=True)"
   ]
  },
  {
   "cell_type": "markdown",
   "metadata": {},
   "source": [
    "# meker ranking "
   ]
  },
  {
   "cell_type": "code",
   "execution_count": 20,
   "metadata": {
    "collapsed": false
   },
   "outputs": [
    {
     "data": {
      "text/plain": [
       "STK                                        35\n",
       "Indigi                                     32\n",
       "Motorola                                   22\n",
       "Pebble                                     14\n",
       "Samsung                                    13\n",
       "Flylinktech                                12\n",
       "Shenzhen Wave                              12\n",
       "株式会社フューチャーズ                                12\n",
       "EasyDy                                     11\n",
       "passion                                    11\n",
       "Origin                                     10\n",
       "FLOVEME                                    10\n",
       "Shenzhen Yoluke Technology Co., Limited     9\n",
       "Sony                                        9\n",
       "Garmin                                      8\n",
       "Sincere　Inc.                                7\n",
       "EloBeth                                     7\n",
       "Floveme                                     7\n",
       "KESS Global Inc.                            7\n",
       "Tera                                        6\n",
       "Name: manufacturer, dtype: int64"
      ]
     },
     "execution_count": 20,
     "metadata": {},
     "output_type": "execute_result"
    }
   ],
   "source": [
    "data_renew[\"manufacturer\"].value_counts()[:20]"
   ]
  },
  {
   "cell_type": "markdown",
   "metadata": {},
   "source": [
    "# comment\n",
    "・petty lisaはスマートウォッチではなく、通常の腕時計の会社\n",
    "\n",
    "・STKは中国企業\n",
    "\n",
    "・株式会社フューチャーズは輸入代理店\n",
    "\n",
    "・KESS Global Inc.はapple watchのアクセサリー"
   ]
  },
  {
   "cell_type": "code",
   "execution_count": 22,
   "metadata": {
    "collapsed": false
   },
   "outputs": [],
   "source": [
    "data_renew[\"price\"] = data_renew[\"price\"].astype(float)\n",
    "data_renew[\"rank\"] = data_renew[\"rank\"].astype(float)\n",
    "# data_renew = data_renew[data_renew[\"manufacturer\"] != \"Petty Lisa\"]"
   ]
  },
  {
   "cell_type": "markdown",
   "metadata": {},
   "source": [
    "# 価格分布"
   ]
  },
  {
   "cell_type": "code",
   "execution_count": 23,
   "metadata": {
    "collapsed": false
   },
   "outputs": [
    {
     "data": {
      "image/png": "[encoded data removed]",
      "text/plain": [
       "<matplotlib.figure.Figure at 0x7f63ab545d50>"
      ]
     },
     "metadata": {},
     "output_type": "display_data"
    }
   ],
   "source": [
    "import matplotlib.pyplot as plt\n",
    "%matplotlib inline\n",
    "data_renew.hist(\"price\",bins=20,figsize=(10,5))\n",
    "plt.xlabel(\"price(yen)\")\n",
    "plt.ylabel(\"number of products\")\n",
    "plt.show()"
   ]
  },
  {
   "cell_type": "markdown",
   "metadata": {},
   "source": [
    "# salse_rank"
   ]
  },
  {
   "cell_type": "code",
   "execution_count": 24,
   "metadata": {
    "collapsed": false
   },
   "outputs": [
    {
     "data": {
      "text/html": [
       "<div>\n",
       "<table border=\"1\" class=\"dataframe\">\n",
       "  <thead>\n",
       "    <tr style=\"text-align: right;\">\n",
       "      <th></th>\n",
       "      <th>date</th>\n",
       "      <th>manufacturer</th>\n",
       "      <th>price</th>\n",
       "      <th>rank</th>\n",
       "    </tr>\n",
       "    <tr>\n",
       "      <th>asin</th>\n",
       "      <th></th>\n",
       "      <th></th>\n",
       "      <th></th>\n",
       "      <th></th>\n",
       "    </tr>\n",
       "  </thead>\n",
       "  <tbody>\n",
       "    <tr>\n",
       "      <th>B01GCV6FQS</th>\n",
       "      <td>None</td>\n",
       "      <td>easybuyjp</td>\n",
       "      <td>1099.0</td>\n",
       "      <td>435.0</td>\n",
       "    </tr>\n",
       "    <tr>\n",
       "      <th>B01E8WJOY8</th>\n",
       "      <td>None</td>\n",
       "      <td>easybuyjp</td>\n",
       "      <td>1195.0</td>\n",
       "      <td>930.0</td>\n",
       "    </tr>\n",
       "    <tr>\n",
       "      <th>B00Y2CYYQ8</th>\n",
       "      <td>None</td>\n",
       "      <td>Pebble</td>\n",
       "      <td>14425.0</td>\n",
       "      <td>1245.0</td>\n",
       "    </tr>\n",
       "    <tr>\n",
       "      <th>B015ATF9I8</th>\n",
       "      <td>None</td>\n",
       "      <td>MisSmart</td>\n",
       "      <td>5680.0</td>\n",
       "      <td>1658.0</td>\n",
       "    </tr>\n",
       "    <tr>\n",
       "      <th>B0041G52PC</th>\n",
       "      <td>2010-11-11</td>\n",
       "      <td>Sleep tracker(スリープトラッカー)</td>\n",
       "      <td>18780.0</td>\n",
       "      <td>2059.0</td>\n",
       "    </tr>\n",
       "    <tr>\n",
       "      <th>B01FJAQRRK</th>\n",
       "      <td>2016-06-17</td>\n",
       "      <td>Fitbit</td>\n",
       "      <td>26297.0</td>\n",
       "      <td>2076.0</td>\n",
       "    </tr>\n",
       "    <tr>\n",
       "      <th>B01FLLSJ6E</th>\n",
       "      <td>None</td>\n",
       "      <td>Eagle　Eye</td>\n",
       "      <td>2737.0</td>\n",
       "      <td>2104.0</td>\n",
       "    </tr>\n",
       "    <tr>\n",
       "      <th>B01HBRPSZG</th>\n",
       "      <td>None</td>\n",
       "      <td>Tryangle.</td>\n",
       "      <td>2500.0</td>\n",
       "      <td>2822.0</td>\n",
       "    </tr>\n",
       "    <tr>\n",
       "      <th>B016COOLGQ</th>\n",
       "      <td>None</td>\n",
       "      <td>Motorola</td>\n",
       "      <td>47800.0</td>\n",
       "      <td>4427.0</td>\n",
       "    </tr>\n",
       "    <tr>\n",
       "      <th>B012CV1VMK</th>\n",
       "      <td>None</td>\n",
       "      <td>Shenzhen Wave</td>\n",
       "      <td>1899.0</td>\n",
       "      <td>4508.0</td>\n",
       "    </tr>\n",
       "    <tr>\n",
       "      <th>B01AIH5V0S</th>\n",
       "      <td>None</td>\n",
       "      <td>Antech</td>\n",
       "      <td>2000.0</td>\n",
       "      <td>4524.0</td>\n",
       "    </tr>\n",
       "    <tr>\n",
       "      <th>B00DNDF2OU</th>\n",
       "      <td>None</td>\n",
       "      <td>Sony</td>\n",
       "      <td>13200.0</td>\n",
       "      <td>5551.0</td>\n",
       "    </tr>\n",
       "    <tr>\n",
       "      <th>B016OD9YEY</th>\n",
       "      <td>None</td>\n",
       "      <td>Asus</td>\n",
       "      <td>17900.0</td>\n",
       "      <td>5573.0</td>\n",
       "    </tr>\n",
       "    <tr>\n",
       "      <th>B015Z7O73I</th>\n",
       "      <td>2015-10-16</td>\n",
       "      <td>HUAWEI</td>\n",
       "      <td>44060.0</td>\n",
       "      <td>5911.0</td>\n",
       "    </tr>\n",
       "    <tr>\n",
       "      <th>B01FW4ML4Q</th>\n",
       "      <td>None</td>\n",
       "      <td>LAD WEATHER</td>\n",
       "      <td>9800.0</td>\n",
       "      <td>6025.0</td>\n",
       "    </tr>\n",
       "    <tr>\n",
       "      <th>B00H7ASLVG</th>\n",
       "      <td>None</td>\n",
       "      <td>Pebble</td>\n",
       "      <td>10500.0</td>\n",
       "      <td>6600.0</td>\n",
       "    </tr>\n",
       "    <tr>\n",
       "      <th>B00PC7PDSA</th>\n",
       "      <td>None</td>\n",
       "      <td>Motorola</td>\n",
       "      <td>19979.0</td>\n",
       "      <td>7198.0</td>\n",
       "    </tr>\n",
       "    <tr>\n",
       "      <th>B01GO3B938</th>\n",
       "      <td>None</td>\n",
       "      <td>PMJ</td>\n",
       "      <td>2980.0</td>\n",
       "      <td>7901.0</td>\n",
       "    </tr>\n",
       "    <tr>\n",
       "      <th>B00N9OAQI0</th>\n",
       "      <td>None</td>\n",
       "      <td>ソニー</td>\n",
       "      <td>22380.0</td>\n",
       "      <td>8231.0</td>\n",
       "    </tr>\n",
       "    <tr>\n",
       "      <th>B01FFAZIR4</th>\n",
       "      <td>2016-05-19</td>\n",
       "      <td>Withings</td>\n",
       "      <td>22790.0</td>\n",
       "      <td>8528.0</td>\n",
       "    </tr>\n",
       "  </tbody>\n",
       "</table>\n",
       "</div>"
      ],
      "text/plain": [
       "                  date              manufacturer    price    rank\n",
       "asin                                                             \n",
       "B01GCV6FQS        None                 easybuyjp   1099.0   435.0\n",
       "B01E8WJOY8        None                 easybuyjp   1195.0   930.0\n",
       "B00Y2CYYQ8        None                    Pebble  14425.0  1245.0\n",
       "B015ATF9I8        None                  MisSmart   5680.0  1658.0\n",
       "B0041G52PC  2010-11-11  Sleep tracker(スリープトラッカー)  18780.0  2059.0\n",
       "B01FJAQRRK  2016-06-17                    Fitbit  26297.0  2076.0\n",
       "B01FLLSJ6E        None                 Eagle　Eye   2737.0  2104.0\n",
       "B01HBRPSZG        None                 Tryangle.   2500.0  2822.0\n",
       "B016COOLGQ        None                  Motorola  47800.0  4427.0\n",
       "B012CV1VMK        None             Shenzhen Wave   1899.0  4508.0\n",
       "B01AIH5V0S        None                    Antech   2000.0  4524.0\n",
       "B00DNDF2OU        None                      Sony  13200.0  5551.0\n",
       "B016OD9YEY        None                      Asus  17900.0  5573.0\n",
       "B015Z7O73I  2015-10-16                    HUAWEI  44060.0  5911.0\n",
       "B01FW4ML4Q        None               LAD WEATHER   9800.0  6025.0\n",
       "B00H7ASLVG        None                    Pebble  10500.0  6600.0\n",
       "B00PC7PDSA        None                  Motorola  19979.0  7198.0\n",
       "B01GO3B938        None                       PMJ   2980.0  7901.0\n",
       "B00N9OAQI0        None                       ソニー  22380.0  8231.0\n",
       "B01FFAZIR4  2016-05-19                  Withings  22790.0  8528.0"
      ]
     },
     "execution_count": 24,
     "metadata": {},
     "output_type": "execute_result"
    }
   ],
   "source": [
    "data_renew.sort_values(\"rank\",ascending=True).head(20)"
   ]
  },
  {
   "cell_type": "code",
   "execution_count": 25,
   "metadata": {
    "collapsed": false
   },
   "outputs": [],
   "source": [
    "data_renew.to_csv(\"amazon_smart_watch.csv\",encoding=\"utf-8\")"
   ]
  },
  {
   "cell_type": "code",
   "execution_count": null,
   "metadata": {
    "collapsed": true
   },
   "outputs": [],
   "source": []
  }
 ],
 "metadata": {
  "kernelspec": {
   "display_name": "Python 2",
   "language": "python",
   "name": "python2"
  },
  "language_info": {
   "codemirror_mode": {
    "name": "ipython",
    "version": 2
   },
   "file_extension": ".py",
   "mimetype": "text/x-python",
   "name": "python",
   "nbconvert_exporter": "python",
   "pygments_lexer": "ipython2",
   "version": "2.7.11"
  }
 },
 "nbformat": 4,
 "nbformat_minor": 0
}
