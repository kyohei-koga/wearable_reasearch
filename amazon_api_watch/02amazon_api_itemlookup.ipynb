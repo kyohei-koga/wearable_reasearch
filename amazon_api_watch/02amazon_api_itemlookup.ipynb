{
 "cells": [
  {
   "cell_type": "markdown",
   "metadata": {},
   "source": [
    "# 説明\n",
    "- asinから、レビュー関連情報（平均レーティング、レビュー件数）を取得\n",
    "- amazonAPIでは、上記情報のサポートをやめたため、APIより得られるレビューページURLよりウェブスクラッピングで情報を取得\n",
    "- エラーが頻発するので、同じプログラムを繰り返し実施する。最大10回"
   ]
  },
  {
   "cell_type": "code",
   "execution_count": 1,
   "metadata": {
    "collapsed": false
   },
   "outputs": [],
   "source": [
    "%matplotlib inline\n",
    "from amazon.api import AmazonAPI\n",
    "import requests\n",
    "import pandas as pd\n",
    "import numpy as np\n",
    "import time\n",
    "from bs4 import BeautifulSoup\n",
    "import csv"
   ]
  },
  {
   "cell_type": "code",
   "execution_count": 2,
   "metadata": {
    "collapsed": false
   },
   "outputs": [],
   "source": [
    "data = pd.read_csv(\"amazon_smart_watch.csv\",index_col=\"asin\")"
   ]
  },
  {
   "cell_type": "code",
   "execution_count": 3,
   "metadata": {
    "collapsed": false
   },
   "outputs": [],
   "source": [
    "f = open(\"/home/kyohei/amazon_rootkey/rootkey.csv\",\"r\")\n",
    "rootkey = list(csv.reader(f))\n",
    "access,secret = rootkey\n",
    "AMAZON_ACCESS_KEY = access[0].replace(\"AWSAccessKeyId=\",\"\")\n",
    "AMAZON_SECRET_KEY = secret[0].replace(\"AWSSecretKey=\",\"\")\n",
    "AMAZON_ASSOC_TAG = \"kyoheikoga04-22\"\n",
    "amazon = AmazonAPI(AMAZON_ACCESS_KEY,AMAZON_SECRET_KEY,AMAZON_ASSOC_TAG,region=\"JP\")"
   ]
  },
  {
   "cell_type": "code",
   "execution_count": 4,
   "metadata": {
    "collapsed": false
   },
   "outputs": [],
   "source": [
    "review_data = []\n",
    "for i in range(10):\n",
    "    if i >= 1:\n",
    "        if len(error_data) == 0:\n",
    "            break\n",
    "    \n",
    "    if i == 0:\n",
    "        asins = data.index\n",
    "    else:\n",
    "        asins = error_data\n",
    "    \n",
    "    error_data = []\n",
    "    for asin in asins:\n",
    "        try:\n",
    "            product = amazon.lookup(ItemId=asin)\n",
    "            time.sleep(1.0)\n",
    "            if product.reviews[0]:\n",
    "                response = requests.get(product.reviews[1])\n",
    "                time.sleep(1.0)\n",
    "                parser = BeautifulSoup(response.content,\"html.parser\")\n",
    "                result = parser.find_all('a',target='_top')\n",
    "                try:\n",
    "                    response = requests.get(result[len(result)-1].get('href'))\n",
    "                    time.sleep(1.0)\n",
    "                    parser = BeautifulSoup(response.content,'html.parser')\n",
    "                    rate = parser.find_all(class_=\"a-row averageStarRatingNumerical\")[0].span.text[6:]\n",
    "                    number = parser.find_all(class_=\"a-size-medium a-text-beside-button totalReviewCount\")[0].text\n",
    "                    review_data.append([asin,rate,number,product.reviews[1]])\n",
    "                except Exception:\n",
    "                    product = amazon.lookup(ItemId=asin)\n",
    "            else:\n",
    "                review_data.append([asin,0,0,product.reviews[1]])\n",
    "                time.sleep(1.0)\n",
    "        except Exception:\n",
    "            error_data.append(asin)\n",
    "            time.sleep(1.0)"
   ]
  },
  {
   "cell_type": "code",
   "execution_count": 6,
   "metadata": {
    "collapsed": false
   },
   "outputs": [],
   "source": [
    "data_rev = pd.DataFrame(review_data,columns=[\"asin\",\"average_rate\",\"num_of_rate\",\"review_url\"])\n",
    "data_rev = data_rev.set_index(\"asin\",drop=True)\n",
    "data_rev.to_csv(\"review_data.csv\")"
   ]
  },
  {
   "cell_type": "code",
   "execution_count": 7,
   "metadata": {
    "collapsed": false
   },
   "outputs": [],
   "source": [
    "data_rev[\"average_rate\"] = data_rev[\"average_rate\"].astype(float)\n",
    "data_rev[\"num_of_rate\"] = data_rev[\"num_of_rate\"].astype(float)"
   ]
  },
  {
   "cell_type": "markdown",
   "metadata": {},
   "source": [
    "# レビュー件数の分布"
   ]
  },
  {
   "cell_type": "code",
   "execution_count": 17,
   "metadata": {
    "collapsed": false
   },
   "outputs": [
    {
     "name": "stdout",
     "output_type": "stream",
     "text": [
      "データ個数：608\n",
      "左rateのある割合:0.28\n",
      "中5件以上rateのある割合:0.14\n",
      "右10件以上rateのある割合:0.09\n"
     ]
    },
    {
     "data": {
      "image/png": "[encoded data removed]",
      "text/plain": [
       "<matplotlib.figure.Figure at 0x7f8665bfcdd0>"
      ]
     },
     "metadata": {},
     "output_type": "display_data"
    }
   ],
   "source": [
    "import matplotlib.pyplot as plt\n",
    "print(\"データ個数：%d\") %data_rev.shape[0]\n",
    "print(\"左rateのある割合:%0.2f\") %(data_rev[data_rev[\"num_of_rate\"]>0].shape[0] / float(data_rev.shape[0]))\n",
    "print(\"中5件以上rateのある割合:%0.2f\") %(data_rev[data_rev[\"num_of_rate\"]>4].shape[0] / float(data_rev.shape[0]))\n",
    "print(\"右10件以上rateのある割合:%0.2f\") %(data_rev[data_rev[\"num_of_rate\"]>9].shape[0] / float(data_rev.shape[0]))\n",
    "\n",
    "fig = plt.figure(figsize=(15,5))\n",
    "ax1 = fig.add_subplot(1,3,1)\n",
    "ax2 = fig.add_subplot(1,3,2)\n",
    "ax3 = fig.add_subplot(1,3,3)\n",
    "data_rev[data_rev[\"num_of_rate\"]>0].hist(\"num_of_rate\",bins=20,ax=ax1)\n",
    "data_rev[data_rev[\"num_of_rate\"]>4].hist(\"num_of_rate\",bins=20,ax=ax2)\n",
    "data_rev[data_rev[\"num_of_rate\"]>9].hist(\"num_of_rate\",bins=20,ax=ax3)\n",
    "ax1.set(ylabel=\"number fo goods\",xlabel=\"all\")\n",
    "ax2.set(xlabel=\"num of rate >=5\")\n",
    "ax3.set(xlabel=\"num of rate >=10\")\n",
    "plt.show()"
   ]
  },
  {
   "cell_type": "code",
   "execution_count": 20,
   "metadata": {
    "collapsed": false
   },
   "outputs": [
    {
     "name": "stdout",
     "output_type": "stream",
     "text": [
      "レビュー件数の統計量（全体）\n",
      "count    608.000000\n",
      "mean       4.309211\n",
      "std       15.109478\n",
      "min        0.000000\n",
      "25%        0.000000\n",
      "50%        0.000000\n",
      "75%        1.000000\n",
      "max      123.000000\n",
      "Name: num_of_rate, dtype: float64\n",
      "\n",
      "レビュー件数の統計量（rate有）\n",
      "count    171.000000\n",
      "mean      15.321637\n",
      "std       25.405339\n",
      "min        1.000000\n",
      "25%        2.000000\n",
      "50%        4.000000\n",
      "75%       16.000000\n",
      "max      123.000000\n",
      "Name: num_of_rate, dtype: float64\n"
     ]
    }
   ],
   "source": [
    "print(\"レビュー件数の統計量（全体）\")\n",
    "print data_rev[\"num_of_rate\"].describe()\n",
    "print(\"\\nレビュー件数の統計量（rate有）\")\n",
    "print(data_rev[data_rev[\"num_of_rate\"]>0][\"num_of_rate\"].describe())"
   ]
  },
  {
   "cell_type": "markdown",
   "metadata": {},
   "source": [
    "# 平均評点の分布"
   ]
  },
  {
   "cell_type": "code",
   "execution_count": 10,
   "metadata": {
    "collapsed": false
   },
   "outputs": [
    {
     "data": {
      "image/png": "[encoded data removed]",
      "text/plain": [
       "<matplotlib.figure.Figure at 0x7f86663bf550>"
      ]
     },
     "metadata": {},
     "output_type": "display_data"
    }
   ],
   "source": [
    "fig = plt.figure(figsize=(15,5))\n",
    "ax1 = fig.add_subplot(1,3,1)\n",
    "ax2 = fig.add_subplot(1,3,2)\n",
    "ax3 = fig.add_subplot(1,3,3)\n",
    "data_rev[data_rev[\"average_rate\"]>0].hist(\"average_rate\",ax=ax1)\n",
    "data_rev[(data_rev[\"average_rate\"]>0) & (data_rev[\"num_of_rate\"]>4)].hist(\"average_rate\",ax=ax2)\n",
    "data_rev[(data_rev[\"average_rate\"]>0) & (data_rev[\"num_of_rate\"]>9)].hist(\"average_rate\",ax=ax3)\n",
    "ax1.set(ylabel=\"number fo goods\",xlabel=\"all\")\n",
    "ax2.set(xlabel=\"num of rate >=5\")\n",
    "ax3.set(xlabel=\"num of rate >=10\")\n",
    "plt.show()"
   ]
  },
  {
   "cell_type": "code",
   "execution_count": 21,
   "metadata": {
    "collapsed": false
   },
   "outputs": [
    {
     "name": "stdout",
     "output_type": "stream",
     "text": [
      "平均評点統計量（rate有）\n",
      "count    171.000000\n",
      "mean       3.427485\n",
      "std        1.050772\n",
      "min        1.000000\n",
      "25%        3.000000\n",
      "50%        3.600000\n",
      "75%        4.000000\n",
      "max        5.000000\n",
      "Name: average_rate, dtype: float64\n",
      "\n",
      "平均評点統計量（rate5件以上）\n",
      "count    83.000000\n",
      "mean      3.633735\n",
      "std       0.592489\n",
      "min       2.100000\n",
      "25%       3.300000\n",
      "50%       3.800000\n",
      "75%       3.900000\n",
      "max       5.000000\n",
      "Name: average_rate, dtype: float64\n",
      "\n",
      "平均評点統計量（rate10件位上）\n",
      "count    54.000000\n",
      "mean      3.753704\n",
      "std       0.474128\n",
      "min       2.300000\n",
      "25%       3.500000\n",
      "50%       3.800000\n",
      "75%       3.900000\n",
      "max       4.600000\n",
      "Name: average_rate, dtype: float64\n"
     ]
    }
   ],
   "source": [
    "print(\"平均評点統計量（rate有）\")\n",
    "print(data_rev[data_rev[\"num_of_rate\"]>0][\"average_rate\"].describe())\n",
    "print(\"\\n平均評点統計量（rate5件以上）\")\n",
    "print(data_rev[(data_rev[\"average_rate\"]>0) & (data_rev[\"num_of_rate\"]>4)][\"average_rate\"].describe())\n",
    "print(\"\\n平均評点統計量（rate10件位上）\")\n",
    "print(data_rev[(data_rev[\"average_rate\"]>0) & (data_rev[\"num_of_rate\"]>9)][\"average_rate\"].describe())"
   ]
  }
 ],
 "metadata": {
  "kernelspec": {
   "display_name": "Python 2",
   "language": "python",
   "name": "python2"
  },
  "language_info": {
   "codemirror_mode": {
    "name": "ipython",
    "version": 2
   },
   "file_extension": ".py",
   "mimetype": "text/x-python",
   "name": "python",
   "nbconvert_exporter": "python",
   "pygments_lexer": "ipython2",
   "version": "2.7.11"
  }
 },
 "nbformat": 4,
 "nbformat_minor": 0
}
