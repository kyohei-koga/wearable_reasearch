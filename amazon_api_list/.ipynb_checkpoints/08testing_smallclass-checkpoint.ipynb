{
 "cells": [
  {
   "cell_type": "code",
   "execution_count": 4,
   "metadata": {
    "collapsed": false
   },
   "outputs": [],
   "source": [
    "%matplotlib inline\n",
    "import matplotlib.pyplot as plt\n",
    "import pandas as pd\n",
    "import numpy as np"
   ]
  },
  {
   "cell_type": "code",
   "execution_count": 5,
   "metadata": {
    "collapsed": false
   },
   "outputs": [],
   "source": [
    "data_amazon = pd.read_csv('api_data_listbands.csv')"
   ]
  },
  {
   "cell_type": "markdown",
   "metadata": {},
   "source": [
    "# 企業分類\n",
    "- レビュー件数が10件以上の製品を製造している企業に限定する。\n",
    "- 高評価企業はレビュー値が4.07以上(実質4.1)\n",
    "- 中評価企業はレビュー値が4.06〜3.0（実質4.0〜3.0）\n",
    "- 高評価企業のうち出願が見られたのは、Xiaomi、Fitbit、MISFIT WEARABLE、GARMIN(ガーミン)、HUAWEI、Wahoo Fitness、POLAR(ポラール)\n",
    "- 中評価企業のうち出願が見られたのは、Jawbone、Sony"
   ]
  },
  {
   "cell_type": "markdown",
   "metadata": {},
   "source": [
    "# 特許データ整理\n"
   ]
  },
  {
   "cell_type": "code",
   "execution_count": 7,
   "metadata": {
    "collapsed": true
   },
   "outputs": [],
   "source": [
    "high_company = [u'フィットビット',u'GARMIN SWITZERLAND GMBH',u'POLAR ELECTRO OY']\n",
    "midle_company = [u'Aliphcom',u'ソニー']\n",
    "other_company = [u'SILICON VALLEY BANK AS ADMINISTRATIVE AGENT',u'BLACKROCK ADVISORS LLC']"
   ]
  },
  {
   "cell_type": "code",
   "execution_count": null,
   "metadata": {
    "collapsed": true
   },
   "outputs": [],
   "source": []
  }
 ],
 "metadata": {
  "kernelspec": {
   "display_name": "Python [conda root]",
   "language": "python",
   "name": "conda-root-py"
  },
  "language_info": {
   "codemirror_mode": {
    "name": "ipython",
    "version": 2
   },
   "file_extension": ".py",
   "mimetype": "text/x-python",
   "name": "python",
   "nbconvert_exporter": "python",
   "pygments_lexer": "ipython2",
   "version": "2.7.12"
  }
 },
 "nbformat": 4,
 "nbformat_minor": 1
}
