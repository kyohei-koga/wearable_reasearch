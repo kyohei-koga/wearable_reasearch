{
 "cells": [
  {
   "cell_type": "code",
   "execution_count": 2,
   "metadata": {
    "collapsed": false
   },
   "outputs": [],
   "source": [
    "# coding: shift-jis\n",
    "%matplotlib inline\n",
    "import pandas as pd\n",
    "import numpy as np\n",
    "import matplotlib.pyplot as plt\n",
    "\n",
    "data_amazon = pd.read_csv('api_data_listbands.csv')"
   ]
  },
  {
   "cell_type": "markdown",
   "metadata": {},
   "source": [
    "# レビュー値の分布より企業分類\n",
    "- レビュー件数が10件以上が対象\n",
    "- 成功企業はレビュー値が4.0以上の企業→サムスン、エイサス、ペブル\n",
    "- 比較対象はレビュー値が3.5以上、3.8以下の企業→ソニー、モトローラ、ファーウェイ"
   ]
  },
  {
   "cell_type": "code",
   "execution_count": 3,
   "metadata": {
    "collapsed": false
   },
   "outputs": [
    {
     "data": {
      "text/plain": [
       "Index([u'asin', u'date', u'manufacturer', u'price', u'rank', u'average_rate',\n",
       "       u'num_of_rate', u'review_url'],\n",
       "      dtype='object')"
      ]
     },
     "execution_count": 3,
     "metadata": {},
     "output_type": "execute_result"
    }
   ],
   "source": [
    "data_amazon.columns"
   ]
  },
  {
   "cell_type": "code",
   "execution_count": 4,
   "metadata": {
    "collapsed": false
   },
   "outputs": [
    {
     "data": {
      "image/png": "[encoded data removed]",
      "text/plain": [
       "<matplotlib.figure.Figure at 0x7f0dec1901d0>"
      ]
     },
     "metadata": {},
     "output_type": "display_data"
    }
   ],
   "source": [
    "fig = plt.figure(figsize=(15,4))\n",
    "ax1 = fig.add_subplot(1,3,1)\n",
    "ax2 = fig.add_subplot(1,3,2)\n",
    "ax3 = fig.add_subplot(1,3,3)\n",
    "data_amazon[data_amazon['num_of_rate'] >= 10].hist('average_rate',ax=ax1,bins=10)\n",
    "data_amazon[data_amazon['num_of_rate'] >= 20].hist('average_rate',ax=ax2,bins=10)\n",
    "data_amazon[data_amazon['num_of_rate'] >= 30].hist('average_rate',ax=ax3,bins=10)\n",
    "ax1.set_xlabel(\"num of rate = 10\",fontsize=15)\n",
    "ax2.set_xlabel(\"num of rate = 20\",fontsize=15)\n",
    "ax3.set_xlabel(\"num of rate = 30\",fontsize=15)\n",
    "plt.show()"
   ]
  },
  {
   "cell_type": "code",
   "execution_count": 5,
   "metadata": {
    "collapsed": false
   },
   "outputs": [
    {
     "name": "stdout",
     "output_type": "stream",
     "text": [
      "succeeded companies are \n",
      "['Jcotton Design' 'Xiaomi' 'UZOU' 'Fitbit' 'Jawbone' 'MISFIT WEARABLE'\n",
      " 'GARMIN(\\xe3\\x82\\xac\\xe3\\x83\\xbc\\xe3\\x83\\x9f\\xe3\\x83\\xb3)' 'HUAWEI'\n",
      " 'Wahoo Fitness' 'MIO'\n",
      " 'POLAR(\\xe3\\x83\\x9d\\xe3\\x83\\xa9\\xe3\\x83\\xbc\\xe3\\x83\\xab)' 'Lendoo' 'lW']\n",
      "\n",
      "normal companies are \n",
      "[nan 'Jawbone' 'GARMIN(ガーミン)'\n",
      " 'Sony' 'MISFIT WEARABLE' 'Fitbit' 'HUAWEI'\n",
      " 'POLAR(ポラール)' 'Excelvan'\n",
      " 'RIVERSONG JAPAN' 'null']\n",
      "\n",
      "false companies are \n",
      "['Excelvan' 'UTOVME' nan 'TKMS' 'Jawbone' 'MISFIT WEARABLE'\n",
      " 'エレコム'\n",
      " 'ドコモヘルスケア'\n",
      " 'Wahoo Fitness' 'Fitbit' 'SONY' 'Withings'\n",
      " 'POLAR(ポラール)']\n"
     ]
    }
   ],
   "source": [
    "data_10 = data_amazon[data_amazon[u'num_of_rate'] >= 10]\n",
    "#succeed\n",
    "suc = data_10[data_10['average_rate']>=4.0]\n",
    "print('succeeded companies are \\n%s') %suc[u'manufacturer'].unique()\n",
    "#normal\n",
    "normal = data_10[(data_10['average_rate'] >= 3.5) & (data_10['average_rate'] <= 3.8)]\n",
    "print('\\nnormal companies are \\n%s') %str(normal[u'manufacturer'].unique()).decode('string-escape')\n",
    "#fale\n",
    "fale = data_10[data_10['average_rate'] < 3.5]\n",
    "print('\\nfalse companies are \\n%s') %str(fale[u'manufacturer'].unique()).decode('string-escape')"
   ]
  },
  {
   "cell_type": "markdown",
   "metadata": {},
   "source": [
    "# 分析"
   ]
  },
  {
   "cell_type": "code",
   "execution_count": null,
   "metadata": {
    "collapsed": false
   },
   "outputs": [],
   "source": [
    "company_suc = [u'サムスン',u'ASUSTEK COMPUTER INC.','ペブルテクノロジー']\n",
    "company_nor = [u'モトローラ',u'ソニー',u'ファーウェイ']\n",
    "data_pat = pd.read_csv('/home/kyohei/wearable/data/01.文献リスト_特許.csv',encoding='SHIFT-JIS')\n",
    "categories = pd.read_csv('/home/kyohei/wearable/data/T_小区分.csv',encoding='SHIFT-JIS')\n",
    "data_suc_pat = data_pat[data_pat[u\"筆頭出願人名\"].isin(company_suc)]\n",
    "data_fal_pat = data_pat[data_pat[u\"筆頭出願人名\"].isin(company_nor)]"
   ]
  },
  {
   "cell_type": "code",
   "execution_count": null,
   "metadata": {
    "collapsed": false
   },
   "outputs": [],
   "source": [
    "data_suc_pat_watch = data_suc_pat[data_suc_pat[u\"B0302\"]==1]\n",
    "data_fal_pat_watch = data_fal_pat[data_fal_pat[u\"B0302\"]==1]\n",
    "print(\"成功企業の内訳\\n%s\"%data_suc_pat_watch[u'筆頭出願人名'].value_counts())\n",
    "print(\"\\n非成功企業の内訳\\n%s\"%data_fal_pat_watch[u'筆頭出願人名'].value_counts())"
   ]
  },
  {
   "cell_type": "code",
   "execution_count": null,
   "metadata": {
    "collapsed": false
   },
   "outputs": [],
   "source": [
    "data_suc_cal = data_suc_pat_watch.iloc[:,19:].count() / float(data_suc_pat_watch.shape[0])\n",
    "data_fal_cal = data_fal_pat_watch.iloc[:,19:].count() / float(data_fal_pat_watch.shape[0])\n",
    "compare_category = pd.concat([data_suc_cal,data_fal_cal],axis=1)\n",
    "compare_category.rename(columns={0:\"succeed\",1:\"normal\"},inplace=True)\n",
    "compare_category[\"diff\"] = compare_category[\"succeed\"] - compare_category[\"normal\"]\n",
    "compare_category[\"diff_abs\"] = abs(compare_category[\"succeed\"] - compare_category[\"normal\"])\n",
    "\n",
    "categories = categories.set_index(u\"記号\",drop=True)\n",
    "compare_category = pd.concat([compare_category,categories],axis=1)"
   ]
  },
  {
   "cell_type": "markdown",
   "metadata": {},
   "source": [
    "### プラス域"
   ]
  },
  {
   "cell_type": "code",
   "execution_count": null,
   "metadata": {
    "collapsed": false
   },
   "outputs": [],
   "source": [
    "compare_category.sort_values('diff',ascending=False).head(20)"
   ]
  },
  {
   "cell_type": "markdown",
   "metadata": {},
   "source": [
    "### マイナス域 "
   ]
  },
  {
   "cell_type": "code",
   "execution_count": null,
   "metadata": {
    "collapsed": false
   },
   "outputs": [],
   "source": [
    "compare_category.sort_values('diff',ascending=True).head(30)"
   ]
  },
  {
   "cell_type": "markdown",
   "metadata": {},
   "source": [
    "### 絶対値"
   ]
  },
  {
   "cell_type": "code",
   "execution_count": null,
   "metadata": {
    "collapsed": false
   },
   "outputs": [],
   "source": [
    "compare_category[compare_category['diff_abs'] >= 0.2].sort_values('diff_abs',ascending=False)"
   ]
  },
  {
   "cell_type": "markdown",
   "metadata": {},
   "source": [
    "### 効果・価値"
   ]
  },
  {
   "cell_type": "code",
   "execution_count": null,
   "metadata": {
    "collapsed": false
   },
   "outputs": [],
   "source": [
    "compare_category[compare_category.index.str.startswith(\"C01\")]"
   ]
  },
  {
   "cell_type": "markdown",
   "metadata": {},
   "source": [
    "### 全体設計デザイン"
   ]
  },
  {
   "cell_type": "code",
   "execution_count": null,
   "metadata": {
    "collapsed": false
   },
   "outputs": [],
   "source": [
    "compare_category[compare_category.index.str.startswith(\"D01\")]"
   ]
  },
  {
   "cell_type": "markdown",
   "metadata": {},
   "source": [
    "### モーションセンサー"
   ]
  },
  {
   "cell_type": "code",
   "execution_count": null,
   "metadata": {
    "collapsed": false
   },
   "outputs": [],
   "source": [
    "compare_category[compare_category.index.str.startswith(\"F01\")]"
   ]
  },
  {
   "cell_type": "markdown",
   "metadata": {},
   "source": [
    "### バイタルセンサー"
   ]
  },
  {
   "cell_type": "code",
   "execution_count": null,
   "metadata": {
    "collapsed": false
   },
   "outputs": [],
   "source": [
    "compare_category[compare_category.index.str.startswith(\"F02\")]"
   ]
  },
  {
   "cell_type": "markdown",
   "metadata": {},
   "source": [
    "### 医療用途"
   ]
  },
  {
   "cell_type": "code",
   "execution_count": null,
   "metadata": {
    "collapsed": false
   },
   "outputs": [],
   "source": [
    "compare_category[compare_category.index.str.startswith(\"H02\")]"
   ]
  },
  {
   "cell_type": "markdown",
   "metadata": {},
   "source": [
    "### ヘルスケア用途"
   ]
  },
  {
   "cell_type": "code",
   "execution_count": null,
   "metadata": {
    "collapsed": false
   },
   "outputs": [],
   "source": [
    "compare_category[compare_category.index.str.startswith(\"H03\")]"
   ]
  },
  {
   "cell_type": "markdown",
   "metadata": {},
   "source": [
    "### スポーツ用途"
   ]
  },
  {
   "cell_type": "code",
   "execution_count": null,
   "metadata": {
    "collapsed": false
   },
   "outputs": [],
   "source": [
    "compare_category[compare_category.index.str.startswith(\"H04\")]"
   ]
  },
  {
   "cell_type": "markdown",
   "metadata": {},
   "source": [
    "### バイタルデータ"
   ]
  },
  {
   "cell_type": "code",
   "execution_count": null,
   "metadata": {
    "collapsed": false
   },
   "outputs": [],
   "source": [
    "compare_category[compare_category.index.str.startswith(\"I07\")]"
   ]
  },
  {
   "cell_type": "code",
   "execution_count": null,
   "metadata": {
    "collapsed": true
   },
   "outputs": [],
   "source": []
  }
 ],
 "metadata": {
  "kernelspec": {
   "display_name": "Python 2",
   "language": "python",
   "name": "python2"
  },
  "language_info": {
   "codemirror_mode": {
    "name": "ipython",
    "version": 2
   },
   "file_extension": ".py",
   "mimetype": "text/x-python",
   "name": "python",
   "nbconvert_exporter": "python",
   "pygments_lexer": "ipython2",
   "version": "2.7.11"
  }
 },
 "nbformat": 4,
 "nbformat_minor": 0
}
