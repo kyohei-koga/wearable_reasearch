{
 "cells": [
  {
   "cell_type": "markdown",
   "metadata": {},
   "source": [
    "# 説明\n",
    "- pythonモジュールのamazon-product-APIを用いて、asin(アイテムID)、発売日、製造元、価格、saleserankを取得\n",
    "- salserankは所属するカテゴリにおける順位\n",
    "- asinは別のプログラムで、レビューに関する情報を取得する。\n",
    "- APIで取得できる情報の一覧は下記のURL。\n",
    "\n",
    "http://docs.aws.amazon.com/AWSECommerceService/latest/DG/CHAP_response_elements.html#ASIN"
   ]
  },
  {
   "cell_type": "markdown",
   "metadata": {},
   "source": [
    "# amazon-product-api\n",
    "- amazonAPI専用のモジュール\n",
    "- amazonAPIは扱いが難しいため、作成された模様\n",
    "- 元々APIで取得できるすべての情報を扱うことができないが、重要な情報はカバーしている"
   ]
  },
  {
   "cell_type": "markdown",
   "metadata": {},
   "source": [
    "# 実施メモ\n",
    "- 取得できる情報は検索結果の最初10ページのみで、それ以降のページの情報は取得できない。今回の場合は、価格範囲を決めて、繰り返し情報を取得\n",
    "- 一時間でできるリクエスト回数は3600回となっているが、このペースでやるとエラーが頻発する。\n",
    "- 回線が常に混雑しているのか、リクエスト回数を抑えても、結構な頻度でエラーが発生する。"
   ]
  },
  {
   "cell_type": "code",
   "execution_count": 6,
   "metadata": {
    "collapsed": false
   },
   "outputs": [],
   "source": [
    "from amazon.api import AmazonAPI\n",
    "from bs4 import BeautifulSoup\n",
    "import requests\n",
    "import time\n",
    "import numpy as np\n",
    "import csv\n",
    "#coding utf-8\n",
    "f = open(\"/home/kyohei/amazon_rootkey/rootkey.csv\",\"r\")\n",
    "rootkey = list(csv.reader(f))\n",
    "access,secret = rootkey\n",
    "AMAZON_ACCESS_KEY = access[0].replace(\"AWSAccessKeyId=\",\"\")\n",
    "AMAZON_SECRET_KEY = secret[0].replace(\"AWSSecretKey=\",\"\")\n",
    "AMAZON_ASSOC_TAG = \"kyoheikoga04-22\"\n",
    "amazon = AmazonAPI(AMAZON_ACCESS_KEY,AMAZON_SECRET_KEY,AMAZON_ASSOC_TAG,region=\"JP\")"
   ]
  },
  {
   "cell_type": "code",
   "execution_count": 9,
   "metadata": {
    "collapsed": false
   },
   "outputs": [],
   "source": [
    "prices = np.linspace(0,100000,201)\n",
    "products_list = []\n",
    "for price in prices:\n",
    "    products = amazon.search(BrowseNode=3544107051,\n",
    "                         SearchIndex='Electronics',\n",
    "                         MinimumPrice=price,\n",
    "                         MaximumPrice=(price + 499))\n",
    "    time.sleep(5.0)\n",
    "    products_list.append(products)"
   ]
  },
  {
   "cell_type": "code",
   "execution_count": 10,
   "metadata": {
    "collapsed": false
   },
   "outputs": [],
   "source": [
    "rate_values = []\n",
    "error_confirmation = []\n",
    "for j,product in enumerate(products_list):\n",
    "    try:\n",
    "        for i,row in enumerate(product):\n",
    "            response = requests.get(row.reviews[1])\n",
    "            title = row.title\n",
    "            asin = row.asin\n",
    "            manufacturer = row.manufacturer\n",
    "            date = row.release_date\n",
    "            price = row.price_and_currency[0]\n",
    "            rank = row.sales_rank\n",
    "            rate_values.append([asin,\n",
    "                               date,\n",
    "                               manufacturer,\n",
    "                               price,\n",
    "                               rank])\n",
    "    except Exception:\n",
    "        error_confirmation.append([\"error\",j])"
   ]
  },
  {
   "cell_type": "code",
   "execution_count": 11,
   "metadata": {
    "collapsed": false
   },
   "outputs": [
    {
     "data": {
      "text/plain": [
       "(278, 5)"
      ]
     },
     "execution_count": 11,
     "metadata": {},
     "output_type": "execute_result"
    }
   ],
   "source": [
    "np.array(rate_values).shape"
   ]
  },
  {
   "cell_type": "code",
   "execution_count": 12,
   "metadata": {
    "collapsed": false
   },
   "outputs": [],
   "source": [
    "import pandas as pd\n",
    "column = [\"asin\",\"date\",\"manufacturer\",\"price\",\"rank\"]\n",
    "data = pd.DataFrame(rate_values,columns=column)\n",
    "data_renew = data.set_index(\"asin\",drop=True)"
   ]
  },
  {
   "cell_type": "markdown",
   "metadata": {},
   "source": [
    "# maker ranking "
   ]
  },
  {
   "cell_type": "code",
   "execution_count": 13,
   "metadata": {
    "collapsed": false
   },
   "outputs": [
    {
     "data": {
      "text/plain": [
       "Jawbone                                   60\n",
       "Fitbit                                    28\n",
       "POLAR(ポラール)                               21\n",
       "Shenzhen Guangxin Long Co., Technology    15\n",
       "MISFIT WEARABLE                           11\n",
       "Wahoo Fitness                              7\n",
       "GARMIN(ガーミン)                               5\n",
       "MIO                                        4\n",
       "xiaomi                                     4\n",
       "ドコモヘルスケア                                   4\n",
       "YAMAYTECH                                  4\n",
       "Ardi                                       4\n",
       "HUAWEI                                     4\n",
       "ＧＧＧ　ＪＰ                                     3\n",
       "Zepp Technology                            3\n",
       "ドコモ・ヘルスケア                                  3\n",
       "Samsung                                    3\n",
       "Diggro                                     3\n",
       "Thync                                      3\n",
       "Pinhen                                     3\n",
       "Name: manufacturer, dtype: int64"
      ]
     },
     "execution_count": 13,
     "metadata": {},
     "output_type": "execute_result"
    }
   ],
   "source": [
    "data_renew[\"manufacturer\"].value_counts()[:20]"
   ]
  },
  {
   "cell_type": "markdown",
   "metadata": {},
   "source": [
    "# comment\n",
    "・petty lisaはスマートウォッチではなく、通常の腕時計の会社\n",
    "\n",
    "・STKは中国企業\n",
    "\n",
    "・株式会社フューチャーズは輸入代理店\n",
    "\n",
    "・KESS Global Inc.はapple watchのアクセサリー"
   ]
  },
  {
   "cell_type": "code",
   "execution_count": 14,
   "metadata": {
    "collapsed": false
   },
   "outputs": [],
   "source": [
    "data_renew[\"price\"] = data_renew[\"price\"].astype(float)\n",
    "data_renew[\"rank\"] = data_renew[\"rank\"].astype(float)\n",
    "# data_renew = data_renew[data_renew[\"manufacturer\"] != \"Petty Lisa\"]"
   ]
  },
  {
   "cell_type": "markdown",
   "metadata": {},
   "source": [
    "# 価格分布"
   ]
  },
  {
   "cell_type": "code",
   "execution_count": 15,
   "metadata": {
    "collapsed": false
   },
   "outputs": [
    {
     "data": {
      "image/png": "[encoded data removed]",
      "text/plain": [
       "<matplotlib.figure.Figure at 0x7f8953716150>"
      ]
     },
     "metadata": {},
     "output_type": "display_data"
    }
   ],
   "source": [
    "import matplotlib.pyplot as plt\n",
    "%matplotlib inline\n",
    "data_renew.hist(\"price\",bins=20,figsize=(10,5))\n",
    "plt.xlabel(\"price(yen)\")\n",
    "plt.ylabel(\"number of products\")\n",
    "plt.show()"
   ]
  },
  {
   "cell_type": "markdown",
   "metadata": {},
   "source": [
    "# salse_rank"
   ]
  },
  {
   "cell_type": "code",
   "execution_count": 16,
   "metadata": {
    "collapsed": false
   },
   "outputs": [
    {
     "data": {
      "text/html": [
       "<div>\n",
       "<table border=\"1\" class=\"dataframe\">\n",
       "  <thead>\n",
       "    <tr style=\"text-align: right;\">\n",
       "      <th></th>\n",
       "      <th>date</th>\n",
       "      <th>manufacturer</th>\n",
       "      <th>price</th>\n",
       "      <th>rank</th>\n",
       "    </tr>\n",
       "    <tr>\n",
       "      <th>asin</th>\n",
       "      <th></th>\n",
       "      <th></th>\n",
       "      <th></th>\n",
       "      <th></th>\n",
       "    </tr>\n",
       "  </thead>\n",
       "  <tbody>\n",
       "    <tr>\n",
       "      <th>B000CSOV96</th>\n",
       "      <td>None</td>\n",
       "      <td>Shenzhen Guangxin Long Co., Technology</td>\n",
       "      <td>1421.0</td>\n",
       "      <td>25.0</td>\n",
       "    </tr>\n",
       "    <tr>\n",
       "      <th>B015ZL8EWY</th>\n",
       "      <td>2015-10-08</td>\n",
       "      <td>Jawbone</td>\n",
       "      <td>6980.0</td>\n",
       "      <td>100.0</td>\n",
       "    </tr>\n",
       "    <tr>\n",
       "      <th>B01ECIR0R6</th>\n",
       "      <td>None</td>\n",
       "      <td>lW</td>\n",
       "      <td>3180.0</td>\n",
       "      <td>157.0</td>\n",
       "    </tr>\n",
       "    <tr>\n",
       "      <th>B00QK2RZG4</th>\n",
       "      <td>2015-07-30</td>\n",
       "      <td>Jawbone</td>\n",
       "      <td>12474.0</td>\n",
       "      <td>164.0</td>\n",
       "    </tr>\n",
       "    <tr>\n",
       "      <th>B015R4G2I2</th>\n",
       "      <td>2015-10-08</td>\n",
       "      <td>Jawbone</td>\n",
       "      <td>14850.0</td>\n",
       "      <td>346.0</td>\n",
       "    </tr>\n",
       "    <tr>\n",
       "      <th>B015R4G36I</th>\n",
       "      <td>2015-10-08</td>\n",
       "      <td>Jawbone</td>\n",
       "      <td>13800.0</td>\n",
       "      <td>646.0</td>\n",
       "    </tr>\n",
       "    <tr>\n",
       "      <th>B017XMW280</th>\n",
       "      <td>None</td>\n",
       "      <td>Excelvan</td>\n",
       "      <td>2780.0</td>\n",
       "      <td>672.0</td>\n",
       "    </tr>\n",
       "    <tr>\n",
       "      <th>B019VXE1MO</th>\n",
       "      <td>None</td>\n",
       "      <td>Xiaomi</td>\n",
       "      <td>2600.0</td>\n",
       "      <td>833.0</td>\n",
       "    </tr>\n",
       "    <tr>\n",
       "      <th>B01FFAZJD2</th>\n",
       "      <td>2016-05-27</td>\n",
       "      <td>MISFIT WEARABLE</td>\n",
       "      <td>12546.0</td>\n",
       "      <td>1134.0</td>\n",
       "    </tr>\n",
       "    <tr>\n",
       "      <th>B01HCH8S52</th>\n",
       "      <td>None</td>\n",
       "      <td>Fitbit</td>\n",
       "      <td>21667.0</td>\n",
       "      <td>1247.0</td>\n",
       "    </tr>\n",
       "    <tr>\n",
       "      <th>B01FD8LUS4</th>\n",
       "      <td>None</td>\n",
       "      <td>Lendoo</td>\n",
       "      <td>2900.0</td>\n",
       "      <td>1363.0</td>\n",
       "    </tr>\n",
       "    <tr>\n",
       "      <th>B00VR4C75E</th>\n",
       "      <td>2015-04-24</td>\n",
       "      <td>Fitbit</td>\n",
       "      <td>17602.0</td>\n",
       "      <td>1578.0</td>\n",
       "    </tr>\n",
       "    <tr>\n",
       "      <th>B01GJG9C52</th>\n",
       "      <td>None</td>\n",
       "      <td>UZOU</td>\n",
       "      <td>3499.0</td>\n",
       "      <td>1657.0</td>\n",
       "    </tr>\n",
       "    <tr>\n",
       "      <th>B01FJAQRRK</th>\n",
       "      <td>2016-06-17</td>\n",
       "      <td>Fitbit</td>\n",
       "      <td>26297.0</td>\n",
       "      <td>2019.0</td>\n",
       "    </tr>\n",
       "    <tr>\n",
       "      <th>B00VR4C7ZO</th>\n",
       "      <td>2015-04-24</td>\n",
       "      <td>Fitbit</td>\n",
       "      <td>17000.0</td>\n",
       "      <td>2106.0</td>\n",
       "    </tr>\n",
       "    <tr>\n",
       "      <th>B00VR4C7GS</th>\n",
       "      <td>2015-04-24</td>\n",
       "      <td>Fitbit</td>\n",
       "      <td>15950.0</td>\n",
       "      <td>2180.0</td>\n",
       "    </tr>\n",
       "    <tr>\n",
       "      <th>B019VXE4IK</th>\n",
       "      <td>None</td>\n",
       "      <td>Xiaomi</td>\n",
       "      <td>3900.0</td>\n",
       "      <td>2286.0</td>\n",
       "    </tr>\n",
       "    <tr>\n",
       "      <th>B01AW7KLHC</th>\n",
       "      <td>None</td>\n",
       "      <td>RIVERSONG JAPAN</td>\n",
       "      <td>4980.0</td>\n",
       "      <td>2503.0</td>\n",
       "    </tr>\n",
       "    <tr>\n",
       "      <th>B01FM1TCHS</th>\n",
       "      <td>None</td>\n",
       "      <td>Jawbone</td>\n",
       "      <td>2467.0</td>\n",
       "      <td>2531.0</td>\n",
       "    </tr>\n",
       "    <tr>\n",
       "      <th>B01FJAR27E</th>\n",
       "      <td>2016-05-20</td>\n",
       "      <td>Fitbit</td>\n",
       "      <td>17470.0</td>\n",
       "      <td>2584.0</td>\n",
       "    </tr>\n",
       "  </tbody>\n",
       "</table>\n",
       "</div>"
      ],
      "text/plain": [
       "                  date                            manufacturer    price  \\\n",
       "asin                                                                      \n",
       "B000CSOV96        None  Shenzhen Guangxin Long Co., Technology   1421.0   \n",
       "B015ZL8EWY  2015-10-08                                 Jawbone   6980.0   \n",
       "B01ECIR0R6        None                                      lW   3180.0   \n",
       "B00QK2RZG4  2015-07-30                                 Jawbone  12474.0   \n",
       "B015R4G2I2  2015-10-08                                 Jawbone  14850.0   \n",
       "B015R4G36I  2015-10-08                                 Jawbone  13800.0   \n",
       "B017XMW280        None                                Excelvan   2780.0   \n",
       "B019VXE1MO        None                                  Xiaomi   2600.0   \n",
       "B01FFAZJD2  2016-05-27                         MISFIT WEARABLE  12546.0   \n",
       "B01HCH8S52        None                                  Fitbit  21667.0   \n",
       "B01FD8LUS4        None                                  Lendoo   2900.0   \n",
       "B00VR4C75E  2015-04-24                                  Fitbit  17602.0   \n",
       "B01GJG9C52        None                                    UZOU   3499.0   \n",
       "B01FJAQRRK  2016-06-17                                  Fitbit  26297.0   \n",
       "B00VR4C7ZO  2015-04-24                                  Fitbit  17000.0   \n",
       "B00VR4C7GS  2015-04-24                                  Fitbit  15950.0   \n",
       "B019VXE4IK        None                                  Xiaomi   3900.0   \n",
       "B01AW7KLHC        None                         RIVERSONG JAPAN   4980.0   \n",
       "B01FM1TCHS        None                                 Jawbone   2467.0   \n",
       "B01FJAR27E  2016-05-20                                  Fitbit  17470.0   \n",
       "\n",
       "              rank  \n",
       "asin                \n",
       "B000CSOV96    25.0  \n",
       "B015ZL8EWY   100.0  \n",
       "B01ECIR0R6   157.0  \n",
       "B00QK2RZG4   164.0  \n",
       "B015R4G2I2   346.0  \n",
       "B015R4G36I   646.0  \n",
       "B017XMW280   672.0  \n",
       "B019VXE1MO   833.0  \n",
       "B01FFAZJD2  1134.0  \n",
       "B01HCH8S52  1247.0  \n",
       "B01FD8LUS4  1363.0  \n",
       "B00VR4C75E  1578.0  \n",
       "B01GJG9C52  1657.0  \n",
       "B01FJAQRRK  2019.0  \n",
       "B00VR4C7ZO  2106.0  \n",
       "B00VR4C7GS  2180.0  \n",
       "B019VXE4IK  2286.0  \n",
       "B01AW7KLHC  2503.0  \n",
       "B01FM1TCHS  2531.0  \n",
       "B01FJAR27E  2584.0  "
      ]
     },
     "execution_count": 16,
     "metadata": {},
     "output_type": "execute_result"
    }
   ],
   "source": [
    "data_renew.sort_values(\"rank\",ascending=True).head(20)"
   ]
  },
  {
   "cell_type": "code",
   "execution_count": 17,
   "metadata": {
    "collapsed": false
   },
   "outputs": [],
   "source": [
    "data_renew.to_csv(\"amazon_listband.csv\",encoding=\"utf-8\")"
   ]
  },
  {
   "cell_type": "code",
   "execution_count": null,
   "metadata": {
    "collapsed": true
   },
   "outputs": [],
   "source": []
  }
 ],
 "metadata": {
  "kernelspec": {
   "display_name": "Python 2",
   "language": "python",
   "name": "python2"
  },
  "language_info": {
   "codemirror_mode": {
    "name": "ipython",
    "version": 2
   },
   "file_extension": ".py",
   "mimetype": "text/x-python",
   "name": "python",
   "nbconvert_exporter": "python",
   "pygments_lexer": "ipython2",
   "version": "2.7.11"
  }
 },
 "nbformat": 4,
 "nbformat_minor": 0
}
